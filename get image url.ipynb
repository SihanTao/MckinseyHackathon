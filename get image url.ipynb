{
 "cells": [
  {
   "cell_type": "code",
   "execution_count": 1,
   "id": "9106fe0e",
   "metadata": {
    "ExecuteTime": {
     "end_time": "2022-09-24T13:14:04.397336Z",
     "start_time": "2022-09-24T13:14:01.369227Z"
    }
   },
   "outputs": [],
   "source": [
    "import pandas as pd\n",
    "import numpy as np\n",
    "import matplotlib.pyplot as plt\n",
    "from sklearn.model_selection import train_test_split\n",
    "from sklearn.preprocessing import StandardScaler"
   ]
  },
  {
   "cell_type": "code",
   "execution_count": 2,
   "id": "70dd96c1",
   "metadata": {
    "ExecuteTime": {
     "end_time": "2022-09-24T13:14:27.683686Z",
     "start_time": "2022-09-24T13:14:27.672893Z"
    }
   },
   "outputs": [
    {
     "data": {
      "text/plain": [
       "'/Users/harryni/Desktop'"
      ]
     },
     "execution_count": 2,
     "metadata": {},
     "output_type": "execute_result"
    }
   ],
   "source": [
    "import os\n",
    "os.getcwd()"
   ]
  },
  {
   "cell_type": "code",
   "execution_count": 62,
   "id": "487e85fa",
   "metadata": {
    "ExecuteTime": {
     "end_time": "2022-09-24T15:26:52.156435Z",
     "start_time": "2022-09-24T15:26:51.939419Z"
    },
    "scrolled": true
   },
   "outputs": [
    {
     "data": {
      "text/html": [
       "<div>\n",
       "<style scoped>\n",
       "    .dataframe tbody tr th:only-of-type {\n",
       "        vertical-align: middle;\n",
       "    }\n",
       "\n",
       "    .dataframe tbody tr th {\n",
       "        vertical-align: top;\n",
       "    }\n",
       "\n",
       "    .dataframe thead th {\n",
       "        text-align: right;\n",
       "    }\n",
       "</style>\n",
       "<table border=\"1\" class=\"dataframe\">\n",
       "  <thead>\n",
       "    <tr style=\"text-align: right;\">\n",
       "      <th></th>\n",
       "      <th>data</th>\n",
       "      <th>included</th>\n",
       "      <th>links</th>\n",
       "      <th>meta</th>\n",
       "      <th>inProduction</th>\n",
       "    </tr>\n",
       "  </thead>\n",
       "  <tbody>\n",
       "    <tr>\n",
       "      <th>0</th>\n",
       "      <td>[{'type': 'objects', 'id': 'co8102855', 'attri...</td>\n",
       "      <td>[{'type': 'parent', 'id': 'co498352', 'attribu...</td>\n",
       "      <td>{'self': 'https://collection.sciencemuseumgrou...</td>\n",
       "      <td>{'total_pages': 3138, 'count': {'type': {'all'...</td>\n",
       "      <td>True</td>\n",
       "    </tr>\n",
       "  </tbody>\n",
       "</table>\n",
       "</div>"
      ],
      "text/plain": [
       "                                                data  \\\n",
       "0  [{'type': 'objects', 'id': 'co8102855', 'attri...   \n",
       "\n",
       "                                            included  \\\n",
       "0  [{'type': 'parent', 'id': 'co498352', 'attribu...   \n",
       "\n",
       "                                               links  \\\n",
       "0  {'self': 'https://collection.sciencemuseumgrou...   \n",
       "\n",
       "                                                meta  inProduction  \n",
       "0  {'total_pages': 3138, 'count': {'type': {'all'...          True  "
      ]
     },
     "execution_count": 62,
     "metadata": {},
     "output_type": "execute_result"
    }
   ],
   "source": [
    "address = '/Users/harryni/Desktop/data.json'\n",
    "df = pd.read_json(address, lines = True)\n",
    "df"
   ]
  },
  {
   "cell_type": "code",
   "execution_count": 196,
   "id": "40665281",
   "metadata": {
    "ExecuteTime": {
     "end_time": "2022-09-24T18:26:34.037014Z",
     "start_time": "2022-09-24T18:26:34.030309Z"
    }
   },
   "outputs": [
    {
     "data": {
      "text/plain": [
       "'https://collection.sciencemuseumgroup.org.uk/objects/co8102855/packet-of-10-gold-flake-cigarettes-cigarette-packet'"
      ]
     },
     "execution_count": 196,
     "metadata": {},
     "output_type": "execute_result"
    }
   ],
   "source": [
    "df['data'][0][0]['links']['self']"
   ]
  },
  {
   "cell_type": "code",
   "execution_count": 187,
   "id": "bf7143f5",
   "metadata": {
    "ExecuteTime": {
     "end_time": "2022-09-24T18:24:30.282193Z",
     "start_time": "2022-09-24T18:24:30.274629Z"
    }
   },
   "outputs": [
    {
     "name": "stdout",
     "output_type": "stream",
     "text": [
      "https://coimages.sciencemuseumgroup.org.uk/images/3/562/large_thumbnail_1999_0299_0001__0001_.jpg\n",
      "3/563/large_thumbnail_1999_0299_0001__0002_.jpg\n"
     ]
    }
   ],
   "source": [
    "for media in df['data'][0][0]['attributes']['multimedia']:\n",
    "    print(media['processed']['large_thumbnail']['location'])"
   ]
  },
  {
   "cell_type": "code",
   "execution_count": 142,
   "id": "8bdc0d7c",
   "metadata": {
    "ExecuteTime": {
     "end_time": "2022-09-24T18:07:34.032475Z",
     "start_time": "2022-09-24T18:07:34.022563Z"
    },
    "scrolled": true
   },
   "outputs": [
    {
     "data": {
      "text/plain": [
       "{'format': 'jpeg',\n",
       " 'location': 'https://coimages.sciencemuseumgroup.org.uk/images/3/562/large_thumbnail_1999_0299_0001__0001_.jpg',\n",
       " 'location_is_relative': True,\n",
       " 'measurements': {'dimensions': [{'dimension': 'height',\n",
       "    'units': 'pixels',\n",
       "    'value': 240},\n",
       "   {'dimension': 'width', 'units': 'pixels', 'value': 361}]},\n",
       " 'modified': 1472014358000,\n",
       " 'resizable': True,\n",
       " 'type': 'image'}"
      ]
     },
     "execution_count": 142,
     "metadata": {},
     "output_type": "execute_result"
    }
   ],
   "source": [
    "df['data'][0][0]['attributes']['multimedia'][0]['processed']['large_thumbnail']#['location']"
   ]
  },
  {
   "cell_type": "code",
   "execution_count": 216,
   "id": "5519994e",
   "metadata": {
    "ExecuteTime": {
     "end_time": "2022-09-24T18:35:47.866802Z",
     "start_time": "2022-09-24T18:35:47.857303Z"
    }
   },
   "outputs": [],
   "source": [
    "pic_url = {}\n",
    "link = []\n",
    "\n",
    "for i in range(len(df['data'][0])):\n",
    "    json = df['data'][0][i] # json for this collection\n",
    "    link.append(json['links']['self']) # store the link to collection\n",
    "    pic_url[i] = []\n",
    "    \n",
    "    for d in json['attributes']['multimedia']:\n",
    "        url = d['processed']['large_thumbnail']['location'] # url for this image\n",
    "        \n",
    "        if url[0] == 'h':\n",
    "            pic_url[i].append(url)"
   ]
  },
  {
   "cell_type": "code",
   "execution_count": 218,
   "id": "b4fc9e09",
   "metadata": {
    "ExecuteTime": {
     "end_time": "2022-09-24T18:35:58.177215Z",
     "start_time": "2022-09-24T18:35:58.165794Z"
    }
   },
   "outputs": [
    {
     "data": {
      "text/plain": [
       "{0: ['https://coimages.sciencemuseumgroup.org.uk/images/3/562/large_thumbnail_1999_0299_0001__0001_.jpg'],\n",
       " 1: ['https://coimages.sciencemuseumgroup.org.uk/images/241/146/large_thumbnail_1901_0006__0001_.jpg'],\n",
       " 2: ['https://coimages.sciencemuseumgroup.org.uk/images/42/249/large_thumbnail_1862_0005__0001_.jpg'],\n",
       " 3: ['https://coimages.sciencemuseumgroup.org.uk/images/526/793/large_thumbnail_1992_0823__0002_.jpg'],\n",
       " 4: ['https://coimages.sciencemuseumgroup.org.uk/images/53/121/large_thumbnail_1878_0003__0001_.jpg'],\n",
       " 5: ['https://coimages.sciencemuseumgroup.org.uk/images/52/365/large_thumbnail_2013_0137__0001_.jpg'],\n",
       " 6: ['https://coimages.sciencemuseumgroup.org.uk/images/404/464/large_thumbnail_1990_5036_2828__0002_.jpg'],\n",
       " 7: ['https://coimages.sciencemuseumgroup.org.uk/images/1/549/large_thumbnail_A34184.jpg'],\n",
       " 8: ['https://coimages.sciencemuseumgroup.org.uk/images/3/566/large_thumbnail_1999_0299_0004.jpg'],\n",
       " 9: ['https://coimages.sciencemuseumgroup.org.uk/images/46/123/large_thumbnail_1897_0046__0001_.jpg'],\n",
       " 10: ['https://coimages.sciencemuseumgroup.org.uk/images/66/162/large_thumbnail_2013_0135_0001__0001_.jpg'],\n",
       " 11: ['https://coimages.sciencemuseumgroup.org.uk/images/40/774/large_thumbnail_1977_0310__0007_.jpg'],\n",
       " 12: ['https://coimages.sciencemuseumgroup.org.uk/images/36/761/large_thumbnail_pic_1978_7045__0001_.jpg'],\n",
       " 13: ['https://coimages.sciencemuseumgroup.org.uk/images/181/511/large_thumbnail_1995_0423_0001__0001_.jpg'],\n",
       " 14: ['https://coimages.sciencemuseumgroup.org.uk/images/57/63/large_thumbnail_E2005_343_2__0001_.jpg'],\n",
       " 15: ['https://coimages.sciencemuseumgroup.org.uk/images/4/560/large_thumbnail_1990_0274_0002.jpg'],\n",
       " 16: ['https://coimages.sciencemuseumgroup.org.uk/images/38/383/large_thumbnail_1860_0004.jpg'],\n",
       " 17: ['https://coimages.sciencemuseumgroup.org.uk/images/58/942/large_thumbnail_2000_0585__0001_.jpg'],\n",
       " 18: ['https://coimages.sciencemuseumgroup.org.uk/images/819/large_thumbnail_1997_0731.jpg'],\n",
       " 19: ['https://coimages.sciencemuseumgroup.org.uk/images/59/957/large_thumbnail_1999_0278.jpg'],\n",
       " 20: ['https://coimages.sciencemuseumgroup.org.uk/images/480/613/large_thumbnail_L2015_3560__0001_.jpg'],\n",
       " 21: ['https://coimages.sciencemuseumgroup.org.uk/images/73/617/large_thumbnail_D070225.jpg'],\n",
       " 22: ['https://coimages.sciencemuseumgroup.org.uk/images/67/7/large_thumbnail_1961_0094_0001__0001_.jpg'],\n",
       " 23: ['https://coimages.sciencemuseumgroup.org.uk/images/1/895/large_thumbnail_a604181_0001__0001_.jpg'],\n",
       " 24: ['https://coimages.sciencemuseumgroup.org.uk/images/53/462/large_thumbnail_2009_5063_0001__0001_.jpg'],\n",
       " 25: ['https://coimages.sciencemuseumgroup.org.uk/images/389/266/large_thumbnail_1976_0106__0149_.jpg'],\n",
       " 26: ['https://coimages.sciencemuseumgroup.org.uk/images/49/347/large_thumbnail_1949_0320__0001_.jpg'],\n",
       " 27: ['https://coimages.sciencemuseumgroup.org.uk/images/17/731/large_thumbnail_2005_0726__0001_.jpg'],\n",
       " 28: ['https://coimages.sciencemuseumgroup.org.uk/images/24/811/large_thumbnail_2006_0040__0001_.jpg'],\n",
       " 29: ['https://coimages.sciencemuseumgroup.org.uk/images/53/13/large_thumbnail_2008_5016_0001__0001_.jpg'],\n",
       " 30: ['https://coimages.sciencemuseumgroup.org.uk/images/16/180/large_thumbnail_1981_0386.jpg'],\n",
       " 31: ['https://coimages.sciencemuseumgroup.org.uk/images/66/176/large_thumbnail_2013_0147_0001__0001_.jpg'],\n",
       " 32: ['https://coimages.sciencemuseumgroup.org.uk/images/526/202/large_thumbnail_2008_5093_0004__0002_.jpg'],\n",
       " 33: ['https://coimages.sciencemuseumgroup.org.uk/images/53/460/large_thumbnail_2008_5015_0006__0001_.jpg'],\n",
       " 34: ['https://coimages.sciencemuseumgroup.org.uk/images/486/889/large_thumbnail_L2015_3409__0001_.jpg'],\n",
       " 35: ['https://coimages.sciencemuseumgroup.org.uk/images/39/861/large_thumbnail_1964_0258__0003_.jpg'],\n",
       " 36: ['https://coimages.sciencemuseumgroup.org.uk/images/44/338/large_thumbnail_2004_0095__0003_.jpg'],\n",
       " 37: ['https://coimages.sciencemuseumgroup.org.uk/images/956/large_thumbnail_2000_0061.jpg'],\n",
       " 38: ['https://coimages.sciencemuseumgroup.org.uk/images/350/761/large_thumbnail_SMG00183906.jpg'],\n",
       " 39: ['https://coimages.sciencemuseumgroup.org.uk/images/2/827/large_thumbnail_A661126.jpg'],\n",
       " 40: ['https://coimages.sciencemuseumgroup.org.uk/images/298/344/large_thumbnail_Y2000_0481__0002_.jpg'],\n",
       " 41: ['https://coimages.sciencemuseumgroup.org.uk/images/2/423/large_thumbnail_A637236__0001_.jpg'],\n",
       " 42: ['https://coimages.sciencemuseumgroup.org.uk/images/89/377/large_thumbnail_CD030147.jpg'],\n",
       " 43: ['https://coimages.sciencemuseumgroup.org.uk/images/564/large_thumbnail_1987_0201_0002.jpg'],\n",
       " 44: ['https://coimages.sciencemuseumgroup.org.uk/images/57/405/large_thumbnail_1862_0089__0001_.jpg'],\n",
       " 45: ['https://coimages.sciencemuseumgroup.org.uk/images/21/129/large_thumbnail_1968_0180__0001_.jpg'],\n",
       " 46: ['https://coimages.sciencemuseumgroup.org.uk/images/295/464/large_thumbnail_1999_0299_0006__0001_.jpg'],\n",
       " 47: ['https://coimages.sciencemuseumgroup.org.uk/images/41/167/large_thumbnail_1975_0193.jpg'],\n",
       " 48: ['https://coimages.sciencemuseumgroup.org.uk/images/36/752/large_thumbnail_pic_1978_7020__0001_.jpg'],\n",
       " 49: ['https://coimages.sciencemuseumgroup.org.uk/images/66/42/large_thumbnail_2008_0005_0001__0001_.jpg']}"
      ]
     },
     "execution_count": 218,
     "metadata": {},
     "output_type": "execute_result"
    }
   ],
   "source": [
    "pic_url"
   ]
  },
  {
   "cell_type": "code",
   "execution_count": 220,
   "id": "4f79ada1",
   "metadata": {
    "ExecuteTime": {
     "end_time": "2022-09-24T18:39:48.908508Z",
     "start_time": "2022-09-24T18:39:48.902756Z"
    }
   },
   "outputs": [],
   "source": [
    "# pic_url = []\n",
    "\n",
    "# for i in range(len(df['data'][0])):\n",
    "#     json = df['data'][0][i] # json for this collection\n",
    "#     try:\n",
    "#         for d in json['attributes']['multimedia']:\n",
    "#             url = d['processed']['large_thumbnail']['location']\n",
    "#             if url[0] == 'h':\n",
    "#                 print(url)\n",
    "#                 pic_url.append(url)\n",
    "#     except:\n",
    "#         print('no link')"
   ]
  },
  {
   "cell_type": "code",
   "execution_count": 223,
   "id": "4bcc3205",
   "metadata": {
    "ExecuteTime": {
     "end_time": "2022-09-24T18:47:39.141020Z",
     "start_time": "2022-09-24T18:41:11.206366Z"
    },
    "scrolled": true
   },
   "outputs": [
    {
     "data": {
      "text/html": [
       "<div>\n",
       "<style scoped>\n",
       "    .dataframe tbody tr th:only-of-type {\n",
       "        vertical-align: middle;\n",
       "    }\n",
       "\n",
       "    .dataframe tbody tr th {\n",
       "        vertical-align: top;\n",
       "    }\n",
       "\n",
       "    .dataframe thead th {\n",
       "        text-align: right;\n",
       "    }\n",
       "</style>\n",
       "<table border=\"1\" class=\"dataframe\">\n",
       "  <thead>\n",
       "    <tr style=\"text-align: right;\">\n",
       "      <th></th>\n",
       "      <th>_index</th>\n",
       "      <th>_type</th>\n",
       "      <th>_id</th>\n",
       "      <th>_score</th>\n",
       "      <th>_source</th>\n",
       "    </tr>\n",
       "  </thead>\n",
       "  <tbody>\n",
       "    <tr>\n",
       "      <th>0</th>\n",
       "      <td>smg</td>\n",
       "      <td>object</td>\n",
       "      <td>co8714252</td>\n",
       "      <td>0.278207</td>\n",
       "      <td>{'admin': {'added': 1587592879000, 'created': ...</td>\n",
       "    </tr>\n",
       "    <tr>\n",
       "      <th>1</th>\n",
       "      <td>smg</td>\n",
       "      <td>object</td>\n",
       "      <td>co8413501</td>\n",
       "      <td>0.278207</td>\n",
       "      <td>{'admin': {'added': 1494271641000, 'analytics'...</td>\n",
       "    </tr>\n",
       "    <tr>\n",
       "      <th>2</th>\n",
       "      <td>smg</td>\n",
       "      <td>object</td>\n",
       "      <td>co227371</td>\n",
       "      <td>0.278207</td>\n",
       "      <td>{'admin': {'added': 1495028055000, 'analytics'...</td>\n",
       "    </tr>\n",
       "    <tr>\n",
       "      <th>3</th>\n",
       "      <td>smg</td>\n",
       "      <td>object</td>\n",
       "      <td>co8084133</td>\n",
       "      <td>0.278207</td>\n",
       "      <td>{'admin': {'added': 1495024400000, 'analytics'...</td>\n",
       "    </tr>\n",
       "    <tr>\n",
       "      <th>4</th>\n",
       "      <td>smg</td>\n",
       "      <td>object</td>\n",
       "      <td>co6308</td>\n",
       "      <td>0.278207</td>\n",
       "      <td>{'admin': {'added': 1495039368000, 'analytics'...</td>\n",
       "    </tr>\n",
       "    <tr>\n",
       "      <th>...</th>\n",
       "      <td>...</td>\n",
       "      <td>...</td>\n",
       "      <td>...</td>\n",
       "      <td>...</td>\n",
       "      <td>...</td>\n",
       "    </tr>\n",
       "    <tr>\n",
       "      <th>317153</th>\n",
       "      <td>smg</td>\n",
       "      <td>object</td>\n",
       "      <td>co8538881</td>\n",
       "      <td>0.257866</td>\n",
       "      <td>{'admin': {'added': 1494272091000, 'analytics'...</td>\n",
       "    </tr>\n",
       "    <tr>\n",
       "      <th>317154</th>\n",
       "      <td>smg</td>\n",
       "      <td>object</td>\n",
       "      <td>co44908</td>\n",
       "      <td>0.257866</td>\n",
       "      <td>{'admin': {'added': 1495027770000, 'analytics'...</td>\n",
       "    </tr>\n",
       "    <tr>\n",
       "      <th>317155</th>\n",
       "      <td>smg</td>\n",
       "      <td>object</td>\n",
       "      <td>co135801</td>\n",
       "      <td>0.257866</td>\n",
       "      <td>{'admin': {'added': 1494267976000, 'analytics'...</td>\n",
       "    </tr>\n",
       "    <tr>\n",
       "      <th>317156</th>\n",
       "      <td>smg</td>\n",
       "      <td>object</td>\n",
       "      <td>co8191358</td>\n",
       "      <td>0.257866</td>\n",
       "      <td>{'admin': {'added': 1495027767000, 'analytics'...</td>\n",
       "    </tr>\n",
       "    <tr>\n",
       "      <th>317157</th>\n",
       "      <td>smg</td>\n",
       "      <td>object</td>\n",
       "      <td>co8191368</td>\n",
       "      <td>0.257866</td>\n",
       "      <td>{'admin': {'added': 1495027768000, 'analytics'...</td>\n",
       "    </tr>\n",
       "  </tbody>\n",
       "</table>\n",
       "<p>317158 rows × 5 columns</p>\n",
       "</div>"
      ],
      "text/plain": [
       "       _index   _type        _id    _score  \\\n",
       "0         smg  object  co8714252  0.278207   \n",
       "1         smg  object  co8413501  0.278207   \n",
       "2         smg  object   co227371  0.278207   \n",
       "3         smg  object  co8084133  0.278207   \n",
       "4         smg  object     co6308  0.278207   \n",
       "...       ...     ...        ...       ...   \n",
       "317153    smg  object  co8538881  0.257866   \n",
       "317154    smg  object    co44908  0.257866   \n",
       "317155    smg  object   co135801  0.257866   \n",
       "317156    smg  object  co8191358  0.257866   \n",
       "317157    smg  object  co8191368  0.257866   \n",
       "\n",
       "                                                  _source  \n",
       "0       {'admin': {'added': 1587592879000, 'created': ...  \n",
       "1       {'admin': {'added': 1494271641000, 'analytics'...  \n",
       "2       {'admin': {'added': 1495028055000, 'analytics'...  \n",
       "3       {'admin': {'added': 1495024400000, 'analytics'...  \n",
       "4       {'admin': {'added': 1495039368000, 'analytics'...  \n",
       "...                                                   ...  \n",
       "317153  {'admin': {'added': 1494272091000, 'analytics'...  \n",
       "317154  {'admin': {'added': 1495027770000, 'analytics'...  \n",
       "317155  {'admin': {'added': 1494267976000, 'analytics'...  \n",
       "317156  {'admin': {'added': 1495027767000, 'analytics'...  \n",
       "317157  {'admin': {'added': 1495027768000, 'analytics'...  \n",
       "\n",
       "[317158 rows x 5 columns]"
      ]
     },
     "execution_count": 223,
     "metadata": {},
     "output_type": "execute_result"
    }
   ],
   "source": [
    "# HERE!\n",
    "c = pd.read_json(os.getcwd() + '/collection.json', lines = True)\n",
    "c"
   ]
  },
  {
   "cell_type": "code",
   "execution_count": 246,
   "id": "52c4bf4c",
   "metadata": {
    "ExecuteTime": {
     "end_time": "2022-09-24T20:32:29.052358Z",
     "start_time": "2022-09-24T20:32:28.988096Z"
    }
   },
   "outputs": [
    {
     "data": {
      "text/plain": [
       "0         {'admin': {'added': 1587592879000, 'created': ...\n",
       "1         {'admin': {'added': 1494271641000, 'analytics'...\n",
       "2         {'admin': {'added': 1495028055000, 'analytics'...\n",
       "3         {'admin': {'added': 1495024400000, 'analytics'...\n",
       "4         {'admin': {'added': 1495039368000, 'analytics'...\n",
       "                                ...                        \n",
       "317153    {'admin': {'added': 1494272091000, 'analytics'...\n",
       "317154    {'admin': {'added': 1495027770000, 'analytics'...\n",
       "317155    {'admin': {'added': 1494267976000, 'analytics'...\n",
       "317156    {'admin': {'added': 1495027767000, 'analytics'...\n",
       "317157    {'admin': {'added': 1495027768000, 'analytics'...\n",
       "Name: _source, Length: 317158, dtype: object"
      ]
     },
     "execution_count": 246,
     "metadata": {},
     "output_type": "execute_result"
    }
   ],
   "source": [
    "c['_source']\n",
    "#c['_source'].iloc[1]['multimedia'][0]#['large_thumbnail']"
   ]
  },
  {
   "cell_type": "code",
   "execution_count": 226,
   "id": "0ae43203",
   "metadata": {
    "ExecuteTime": {
     "end_time": "2022-09-24T19:00:39.990052Z",
     "start_time": "2022-09-24T19:00:39.926175Z"
    }
   },
   "outputs": [
    {
     "data": {
      "text/plain": [
       "0         {'admin': {'added': 1587592879000, 'created': ...\n",
       "1         {'admin': {'added': 1494271641000, 'analytics'...\n",
       "2         {'admin': {'added': 1495028055000, 'analytics'...\n",
       "3         {'admin': {'added': 1495024400000, 'analytics'...\n",
       "4         {'admin': {'added': 1495039368000, 'analytics'...\n",
       "                                ...                        \n",
       "317153    {'admin': {'added': 1494272091000, 'analytics'...\n",
       "317154    {'admin': {'added': 1495027770000, 'analytics'...\n",
       "317155    {'admin': {'added': 1494267976000, 'analytics'...\n",
       "317156    {'admin': {'added': 1495027767000, 'analytics'...\n",
       "317157    {'admin': {'added': 1495027768000, 'analytics'...\n",
       "Name: _source, Length: 317158, dtype: object"
      ]
     },
     "execution_count": 226,
     "metadata": {},
     "output_type": "execute_result"
    }
   ],
   "source": [
    "# not finished yet\n",
    "data = c['_source']\n",
    "pic_url = {}\n",
    "link = []\n",
    "\n",
    "for i in range(len(data)):\n",
    "    json = data[i] # json for this collection\n",
    "    link.append(data['links']['self']) # store the link to collection\n",
    "    pic_url[i] = []\n",
    "    \n",
    "    for d in json['attributes']['multimedia']:\n",
    "        url = d['processed']['large_thumbnail']['location'] # url for this image\n",
    "        \n",
    "        if url[0] == 'h':\n",
    "            pic_url[i].append(url)"
   ]
  },
  {
   "cell_type": "code",
   "execution_count": null,
   "id": "41f7d6a5",
   "metadata": {},
   "outputs": [],
   "source": []
  }
 ],
 "metadata": {
  "kernelspec": {
   "display_name": "Python 3.9.12 ('base')",
   "language": "python",
   "name": "python3"
  },
  "language_info": {
   "codemirror_mode": {
    "name": "ipython",
    "version": 3
   },
   "file_extension": ".py",
   "mimetype": "text/x-python",
   "name": "python",
   "nbconvert_exporter": "python",
   "pygments_lexer": "ipython3",
   "version": "3.9.12"
  },
  "toc": {
   "base_numbering": 1,
   "nav_menu": {},
   "number_sections": true,
   "sideBar": true,
   "skip_h1_title": false,
   "title_cell": "Table of Contents",
   "title_sidebar": "Contents",
   "toc_cell": false,
   "toc_position": {},
   "toc_section_display": true,
   "toc_window_display": false
  },
  "vscode": {
   "interpreter": {
    "hash": "68ce025ec512a79365a24bbfad41686753547033893e4d7fdb14713416c9bc64"
   }
  }
 },
 "nbformat": 4,
 "nbformat_minor": 5
}
