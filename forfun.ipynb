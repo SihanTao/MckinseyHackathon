{
 "cells": [
  {
   "cell_type": "code",
   "execution_count": 2,
   "metadata": {},
   "outputs": [
    {
     "name": "stderr",
     "output_type": "stream",
     "text": [
      "2022-09-24 21:46:53.348124: I tensorflow/core/platform/cpu_feature_guard.cc:193] This TensorFlow binary is optimized with oneAPI Deep Neural Network Library (oneDNN) to use the following CPU instructions in performance-critical operations:  AVX2 AVX_VNNI FMA\n",
      "To enable them in other operations, rebuild TensorFlow with the appropriate compiler flags.\n",
      "2022-09-24 21:46:53.639431: I tensorflow/core/util/util.cc:169] oneDNN custom operations are on. You may see slightly different numerical results due to floating-point round-off errors from different computation orders. To turn them off, set the environment variable `TF_ENABLE_ONEDNN_OPTS=0`.\n",
      "2022-09-24 21:46:53.674736: W tensorflow/stream_executor/platform/default/dso_loader.cc:64] Could not load dynamic library 'libcudart.so.11.0'; dlerror: libcudart.so.11.0: cannot open shared object file: No such file or directory\n",
      "2022-09-24 21:46:53.674765: I tensorflow/stream_executor/cuda/cudart_stub.cc:29] Ignore above cudart dlerror if you do not have a GPU set up on your machine.\n",
      "2022-09-24 21:46:53.722047: E tensorflow/stream_executor/cuda/cuda_blas.cc:2981] Unable to register cuBLAS factory: Attempting to register factory for plugin cuBLAS when one has already been registered\n",
      "2022-09-24 21:46:54.723204: W tensorflow/stream_executor/platform/default/dso_loader.cc:64] Could not load dynamic library 'libnvinfer.so.7'; dlerror: libnvinfer.so.7: cannot open shared object file: No such file or directory\n",
      "2022-09-24 21:46:54.723296: W tensorflow/stream_executor/platform/default/dso_loader.cc:64] Could not load dynamic library 'libnvinfer_plugin.so.7'; dlerror: libnvinfer_plugin.so.7: cannot open shared object file: No such file or directory\n",
      "2022-09-24 21:46:54.723303: W tensorflow/compiler/tf2tensorrt/utils/py_utils.cc:38] TF-TRT Warning: Cannot dlopen some TensorRT libraries. If you would like to use Nvidia GPU with TensorRT, please make sure the missing libraries mentioned above are installed properly.\n"
     ]
    }
   ],
   "source": [
    "import pandas as pd\n",
    "import json, requests, os\n",
    "from tqdm import tqdm\n",
    "from ImageSearch import Index,LoadData,SearchImage\n",
    "\n",
    "def getPictureList(pictures: list, number=1):\n",
    "    PREFIX = 'https://coimages.sciencemuseumgroup.org.uk/images/'\n",
    "    res = []\n",
    "    \n",
    "    if number == 1:\n",
    "        res.append(PREFIX + pictures[0]['processed']['large']['location'])\n",
    "    else:\n",
    "        for pic in pictures:\n",
    "            res.append(PREFIX + pic['processed']['large']['location'])\n",
    "    return res \n",
    "\n",
    "def getAllPictures(df, first=True):\n",
    "    res = []\n",
    "    n = len(df)\n",
    "    for i in range(n):\n",
    "        res += getPictureList(df.iloc[i]['attributes']['multimedia'], 1 if first else 0)\n",
    "    return res \n",
    "\n",
    "def imageDownload(url_list):\n",
    "    path = 'images/'\n",
    "    os.makedirs(path, exist_ok=True)\n",
    "    \n",
    "    for i, image_url in tqdm(enumerate(url_list)):\n",
    "        img_data = requests.get(image_url).content\n",
    "        with open('images/' + str(i + 1) + '.jpg' , 'wb') as handler:\n",
    "            handler.write(img_data)\n",
    "            "
   ]
  },
  {
   "cell_type": "code",
   "execution_count": 1,
   "metadata": {},
   "outputs": [
    {
     "ename": "",
     "evalue": "",
     "output_type": "error",
     "traceback": [
      "\u001b[1;31mThe Kernel crashed while executing code in the the current cell or a previous cell. Please review the code in the cell(s) to identify a possible cause of the failure. Click <a href='https://aka.ms/vscodeJupyterKernelCrash'>here</a> for more info. View Jupyter <a href='command:jupyter.viewOutput'>log</a> for further details."
     ]
    },
    {
     "ename": "",
     "evalue": "",
     "output_type": "error",
     "traceback": [
      "\u001b[1;31mCanceled future for execute_request message before replies were done"
     ]
    }
   ],
   "source": [
    "# with open('orig_data.json') as json_data:\n",
    "#     data = json.load(json_data)\n",
    "import pandas as pd\n",
    "df = pd.read_json('collection.json', lines=True)\n",
    "# imageDownload(getAllPictures(df))"
   ]
  },
  {
   "cell_type": "code",
   "execution_count": 6,
   "metadata": {},
   "outputs": [
    {
     "name": "stdout",
     "output_type": "stream",
     "text": [
      "Init\n",
      "Meta data allready Present, Please Apply Search!\n",
      "['image_data_features.pkl', 'image_features_vectors.ann']\n",
      "1/1 [==============================] - 0s 192ms/step\n"
     ]
    },
    {
     "data": {
      "text/plain": [
       "{28: 'images/2.jpg',\n",
       " 41: 'images/3.jpg',\n",
       " 31: 'images/14.jpg',\n",
       " 18: 'images/8.jpg',\n",
       " 33: 'images/9.jpg'}"
      ]
     },
     "execution_count": 6,
     "metadata": {},
     "output_type": "execute_result"
    }
   ],
   "source": [
    "input_image = 'sample_images/bicycle1.jpeg'\n",
    "image_list = LoadData().from_folder(['images'])\n",
    "# For Faster Serching we need to index Data first, After Indexing all the meta data stored on the local path\n",
    "Index(image_list).Start()\n",
    "# for searching you need to give the image path and the number of similar image you want\n",
    "SearchImage().get_similar_images(image_path=input_image,number_of_images=5)\n",
    "# If you want to plot similar images the you can use this method, It will plot 16 most similar images from the data index\n",
    "# SearchImage().plot_similar_images(image_path = input_image)"
   ]
  },
  {
   "cell_type": "code",
   "execution_count": null,
   "metadata": {},
   "outputs": [],
   "source": []
  }
 ],
 "metadata": {
  "kernelspec": {
   "display_name": "Python 3.9.12 ('base')",
   "language": "python",
   "name": "python3"
  },
  "language_info": {
   "codemirror_mode": {
    "name": "ipython",
    "version": 3
   },
   "file_extension": ".py",
   "mimetype": "text/x-python",
   "name": "python",
   "nbconvert_exporter": "python",
   "pygments_lexer": "ipython3",
   "version": "3.9.12"
  },
  "orig_nbformat": 4,
  "vscode": {
   "interpreter": {
    "hash": "68ce025ec512a79365a24bbfad41686753547033893e4d7fdb14713416c9bc64"
   }
  }
 },
 "nbformat": 4,
 "nbformat_minor": 2
}
